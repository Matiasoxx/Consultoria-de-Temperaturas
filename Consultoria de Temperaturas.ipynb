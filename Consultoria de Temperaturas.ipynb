{
 "cells": [
  {
   "cell_type": "markdown",
   "id": "1243dc44-03ca-4199-8bd8-de49cc576ba4",
   "metadata": {},
   "source": [
    "# **Proyecto Consulta Temperaturas Interactiva por Ciudad y Mes**\n",
    "## Objetivo\n",
    "Crear un programa interactivo para la visualización de datos meteorológicos. Este programa permitirá a los usuarios visualizar los registros climáticos según el lugar y el mes. El objetivo es aplicar los conceptos de creación de gráficos, personalización de estilos y combinación con las habilidades de desarrollo de programas con Python.\n",
    "## Consigna\n",
    "Cargar un DataFrame con los datos meteorológicos provistos en el archivo descargable de esta lección.\n",
    "\n",
    "Asegurarse de que las fechas estén en formato correcto para su manipulación posterior.\n",
    "\n",
    "Crear una función (usando input) que permita al usuario seleccionar un mes de una lista de opciones.\n",
    "\n",
    "Crear otra función que permita al usuario seleccionar una ciudad de la lista de ciudades disponibles en los datos.\n",
    "\n",
    "Mostrar un gráfico de líneas que muestre las temperaturas mínimas y máximas que se registraron en la ciudad elegida durante el mes elegido.\n",
    "\n",
    "Permitir que el programa le pregunte al usuario si desea seguir haciendo consultas o no."
   ]
  },
  {
   "cell_type": "code",
   "execution_count": 1,
   "id": "7efdf6a3-ce22-493a-8b02-7c83dbebb0fb",
   "metadata": {},
   "outputs": [],
   "source": [
    "import pandas as pd\n",
    "import matplotlib.pyplot as plt\n",
    "import numpy as np\n"
   ]
  },
  {
   "cell_type": "markdown",
   "id": "5ba7399c-71e6-4831-bbca-30a56c524dd4",
   "metadata": {},
   "source": [
    "**Cargar un DataFrame con los datos meteorológicos provistos en el archivo**"
   ]
  },
  {
   "cell_type": "code",
   "execution_count": null,
   "id": "aef35519-afb8-4f5a-90fe-99c8c13ea7ef",
   "metadata": {},
   "outputs": [],
   "source": [
    "df = pd.read_csv('Nombre del archivo.csv')\n",
    "df"
   ]
  },
  {
   "cell_type": "code",
   "execution_count": null,
   "id": "dbd68a6b-0404-4eab-a4e8-56ccd8ca2843",
   "metadata": {},
   "outputs": [],
   "source": [
    "df.info()\n"
   ]
  },
  {
   "cell_type": "code",
   "execution_count": null,
   "id": "764db204-6536-4f32-8673-03c5f27a2d95",
   "metadata": {},
   "outputs": [],
   "source": [
    "#Revisamos si hay valores null.\n",
    "df.isnull().sum()\n"
   ]
  },
  {
   "cell_type": "markdown",
   "id": "fae1c6af-27d8-466a-bad4-cd909d02cf8b",
   "metadata": {},
   "source": [
    "**Asegurarse de que las fechas estén en formato correcto para su manipulación posterior.**"
   ]
  },
  {
   "cell_type": "code",
   "execution_count": null,
   "id": "a74b0748-7935-478e-894d-956fd0f96ef4",
   "metadata": {},
   "outputs": [],
   "source": [
    "#Revisamos el formato de fecha\n",
    "type(df['Fecha'][0])"
   ]
  },
  {
   "cell_type": "code",
   "execution_count": null,
   "id": "915070b8-ca66-4050-aea7-0d4b80513a9f",
   "metadata": {},
   "outputs": [],
   "source": [
    "df['Fecha'] = pd.to_datetime(df['Fecha'], format = '%d/%m/%Y')\n",
    "type(df['Fecha'][0])"
   ]
  },
  {
   "cell_type": "code",
   "execution_count": null,
   "id": "3695752a-da7e-44d1-a923-2c3272dda37f",
   "metadata": {},
   "outputs": [],
   "source": [
    "df.info()"
   ]
  },
  {
   "cell_type": "markdown",
   "id": "2fc60baf-97b6-4c17-9840-03a74d8e60b0",
   "metadata": {},
   "source": [
    "**Crear una función (usando input) que permita al usuario seleccionar un mes de una lista de opciones.**"
   ]
  },
  {
   "cell_type": "code",
   "execution_count": 22,
   "id": "5c8f62d0-44a5-4d8d-847b-00c28ac1bae3",
   "metadata": {},
   "outputs": [],
   "source": [
    "# Lista de ciudades\n",
    "ciudades = []\n",
    "#Ciclo for que recorre el DataFrame por la columna Ciudad\n",
    "for ciudad in df['Ciudad']:\n",
    "    #Condicion que va agregando elementos a ciudades sin que se repitan\n",
    "    if ciudad not in ciudades: \n",
    "        ciudades.append(ciudad)\n",
    "#Vamos a hacer un diccionario de meses sin valores repetidos\n",
    "dict_meses = {\n",
    "    1:'Enero',\n",
    "    2:'Febrero',\n",
    "    3:'Marzo',\n",
    "    4:'Abril',\n",
    "    5:'Mayo',\n",
    "    6:'Junio',\n",
    "    7:'Julio',\n",
    "    8:'Agosto',\n",
    "    9:'Septiembre',\n",
    "    10:'Octubre',\n",
    "    11:'Noviembre',\n",
    "    12:'Diciembre',\n",
    "}"
   ]
  },
  {
   "cell_type": "code",
   "execution_count": null,
   "id": "830485d8-891c-413a-a51b-63e5f4734a81",
   "metadata": {
    "scrolled": true
   },
   "outputs": [],
   "source": [
    "\n",
    "# Entrada: No recibe nada\n",
    "# Proceso : En base a la ciudad y el mes que decida el usuario se va a mostrar un grafico con la informacion deseada, aplicando los filtros\n",
    "#           correspondientes en el DataFrame para quedarnos unicamente con la informacion que importa\n",
    "# Salida: Un grafico con las temperaturas correpsondientes a la ciudad y el mes que escogio el usuarios. Se le pregunta si quiere realizar otra consulta.\n",
    "def consultor_temperaturas():\n",
    "    while True:\n",
    "        print(\"\\nIngresa una de las ciudades que te interesa saber el clima\\n\")\n",
    "        #Solicitamos la ciudad\n",
    "        print(f\"Las ciudades disponibles son: {ciudades}\")\n",
    "        opcion_ciudad = input(f\"Ingresa la ciudad que te llama la atencion \\n> \").title()\n",
    "        #Solicitamos mes\n",
    "        opcion_mes = int(input(f\"Ingrese el número del mes que quiere ver: \\n> \"))\n",
    "        #Validamos\n",
    "        if opcion_ciudad not in ciudades or opcion_mes not in range(1,13):\n",
    "            print(\"Ciudad o Mes no validos. Intenta otra vez!\")\n",
    "            continue\n",
    "        #Creamos el DataFrame con la ciudad y el mes elegidos\n",
    "        condicion1 = df['Ciudad'] == opcion_ciudad\n",
    "        condicion2 = df['Fecha'].dt.month == opcion_mes\n",
    "        datos_ciudad_mes = df[(condicion1) & (condicion2)]\n",
    "\n",
    "        #Creamos el grafico con las temperaturas\n",
    "        plt.figure(figsize=(10,6))\n",
    "        plt.plot(datos_ciudad_mes['Fecha'],datos_ciudad_mes['Temperatura Maxima'], label= 'Maxima', color = 'red')\n",
    "        plt.plot(datos_ciudad_mes['Fecha'],datos_ciudad_mes['Temperatura Minima'], label= 'Minima', color = 'blue')\n",
    "        plt.title(f'Temperaturas en {opcion_ciudad} durante el mes de {dict_meses[opcion_mes]}')\n",
    "        plt.xlabel('Fechas')\n",
    "        plt.ytitle('Temperaturas')\n",
    "        plt.legend()\n",
    "        plt.xticks(rotation=45)\n",
    "        plt.show()\n",
    "\n",
    "        #Preguntamos \n",
    "        respuesta_usuario = input('Deseas continuar consultando: S/N \\n')\n",
    "        if respuesta_usuario.upper() != 'S':\n",
    "            break\n",
    "print(\"Bienvenido al consultor de Clima\")\n",
    "consultor_temperaturas()"
   ]
  },
  {
   "cell_type": "markdown",
   "id": "e4a6e5b8-90ed-45e6-b098-7f9509dcadf3",
   "metadata": {},
   "source": [
    "**Comparar el clima entre dos ciudades**"
   ]
  },
  {
   "cell_type": "code",
   "execution_count": null,
   "id": "3a9dc184-4a22-4289-abdf-4acb2edcd90b",
   "metadata": {},
   "outputs": [],
   "source": [
    "#Obtener datos va a ser un diccionario que va a contener los datos de las ciudades en un diccionario al cual vamos a acceder con\n",
    "# las claves en crear_graficos\n",
    "#Entrada: El Dataframe filtrado segun la ciudad y mes escogidos por el usuario.\n",
    "#Proceso: Realiza operaciones matematicas para calcular promedio y valor total.\n",
    "#Salida: Un diccionario con los valores correspondientes al dataframe enviado\n",
    "def obtener_datos(dataframe):\n",
    "     return {\n",
    "        #Calculamos el Promedio de la Temperatura maxima \n",
    "        \"temp_max\": dataframe['Temperatura Maxima'].mean(),\n",
    "        # Calculmaos el Promedio de la Temperatura Minima \n",
    "        \"temp_min\": dataframe['Temperatura Minima'].mean(),\n",
    "        #Calcula precipitacion total\n",
    "        \"precipitacion\": dataframe['Precipitacion'].sum(),\n",
    "        # Humedad relativa promedio    \n",
    "        \"humedad\": dataframe['Humedad Relativa'].mean(),\n",
    "        # Velocidad del viento promedio\n",
    "        \"viento\": dataframe['Velocidad del Viento'].mean()\n",
    "    }\n",
    "\n",
    "#Funcion para crear los graficos\n",
    "#Entrada: Una lista de ciudades, la informacion de estas ciudades y el mes.\n",
    "#Proceso: Recorre un ciclo for el cual ayuda a leer y coomparar la informacion dentro del diccionario.\n",
    "#Salida: Comparacion de los 5 graficos de barra.\n",
    "def crear_graficos(listaDeCiudades, informacion, mes):\n",
    "     fig, axs = plt.subplots(ncols=1,nrows=5, figsize=(15, 50))\n",
    "     fig.subplots_adjust(hspace=0.5)\n",
    "     titulos =  ['Temperatura Maxima','Temperatura Minima','Precipitacion Total','Humedad promedio','Velocidad del viento']\n",
    "     claves = [\"temp_max\", \"temp_min\", \"precipitacion\", \"humedad\", \"viento\"]\n",
    "     colores = [['orange', 'green'],['#B0E0E6', '#000080'], ['#76C7C0', '#0F4C81'],['#AEDFF7', '#1B4965'],['#B0C4DE', '#708090']]\n",
    "     #Comparacion entre ciudades sera un for que nos va a ahorra tiempo en la ejecucion del codigo\n",
    "     for i, clave in enumerate(claves):\n",
    "        #Accedemos al primer diccionario y buscamos el valor segun la clave en la que se encuentre el for\n",
    "        valores = [informacion[0][clave], informacion[1][clave]]\n",
    "        axs[i].bar(listaDeCiudades, valores, color=colores[i])\n",
    "        axs[i].set_title(f\"{titulos[i]} durante el mes de {dict_meses[mes]} en {listaDeCiudades[0]} v/s {listaDeCiudades[1]}\")\n",
    "        axs[i].set_ylabel(titulos[i])\n",
    "        axs[i].set_xlabel('Ciudades')\n",
    "     # Una separacion leve para que no esten tan juntos\n",
    "     plt.tight_layout(pad=4.0)\n",
    "     # Mostramos\n",
    "     plt.show().\n",
    "#Entrada: No recibe nada\n",
    "#Proceso: En base a la primera ciudad, la segunda y el mes que decida el usuario se realizara el filtrado del DataFrame que sera usado por \n",
    "#         datos_ciudad que sera un diccionario que contendra la informacion que retorne obtener_datos de la ciudad1 y ciudad2\n",
    "#         finalmente le pasamos lista_ciudades, datos_ciudad, el mes a  crear_graficos y se le pregunta si desea realizar otra comparacion.\n",
    "#Salida: Graficos de barra comparativos entre las ciudades electas en un mes especifico.\n",
    "def comparar_clima():\n",
    "     while True:\n",
    "         print(\"\\nIngresa una de las ciudades que te interesa comparar\")\n",
    "         #Mostramos ciudades\n",
    "         print(f\"Las ciudades disponibles son: {ciudades}\")\n",
    "         ciudad = input(f\" Ingresa la primera ciudad que te llama la atencion \\n> \").title()\n",
    "         ciudad2 = input(f\" Ingresa la segunda ciudad que te llama la atencion \\n> \").title()\n",
    "         opcion_mes = int(input(f\" Ingrese el número del mes que quiere ver: \\n> \"))\n",
    "         #Revisamos que sean ciudades/comparaciones/meses validos\n",
    "         if ciudad not in ciudades or ciudad2 not in ciudades or ciudad2 == ciudad or opcion_mes not in range(1,13):\n",
    "             print(\"Ciudad o Mes no validos. Revisa que no estes intentando comparar la misma ciudad. Intenta otra vez!\")\n",
    "             continue\n",
    "         lista_ciudades = [ciudad , ciudad2]\n",
    "         df_ciudad = df['Ciudad'] == ciudad\n",
    "         df_ciudad2 = df['Ciudad'] == ciudad2\n",
    "         condicion_mes = df['Fecha'].dt.month == opcion_mes\n",
    "         # Creamos los DF correspondientes\n",
    "         df_primera_ciudad = df[df_ciudad & condicion_mes]\n",
    "         df_segunda_ciudad = df[df_ciudad2 & condicion_mes]\n",
    "\n",
    "         #Llamamos a obtener_datos para rescatar los valores solicitados\n",
    "         datos_ciudad = [\n",
    "             obtener_datos(df_primera_ciudad),\n",
    "             obtener_datos(df_segunda_ciudad)\n",
    "         ]\n",
    "         # Comenzamos a crear los graficos\n",
    "         crear_graficos(lista_ciudades, datos_ciudad, opcion_mes)\n",
    "         # Preguntamos al usuario\n",
    "         respuesta_usuario = input('Deseas continuar consultando: S/N \\n> ')\n",
    "         if respuesta_usuario.upper() != 'S':\n",
    "             break\n",
    "         \n",
    "print('Bienvenido al comparador de Clima')\n",
    "comparar_clima()"
   ]
  },
  {
   "cell_type": "code",
   "execution_count": null,
   "id": "cdd56315-d1fb-4af2-9886-b0088cb41189",
   "metadata": {},
   "outputs": [],
   "source": []
  }
 ],
 "metadata": {
  "kernelspec": {
   "display_name": "Python 3 (ipykernel)",
   "language": "python",
   "name": "python3"
  },
  "language_info": {
   "codemirror_mode": {
    "name": "ipython",
    "version": 3
   },
   "file_extension": ".py",
   "mimetype": "text/x-python",
   "name": "python",
   "nbconvert_exporter": "python",
   "pygments_lexer": "ipython3",
   "version": "3.12.3"
  }
 },
 "nbformat": 4,
 "nbformat_minor": 5
}
